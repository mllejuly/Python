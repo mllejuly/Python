{
 "cells": [
  {
   "cell_type": "markdown",
   "metadata": {},
   "source": [
    "# NY Choropleth Map"
   ]
  },
  {
   "cell_type": "code",
   "execution_count": 1,
   "metadata": {},
   "outputs": [],
   "source": [
    "# Import Package\n",
    "import pandas as pd\n",
    "import json\n",
    "import plotly.express as px\n",
    "import numpy as np"
   ]
  },
  {
   "cell_type": "code",
   "execution_count": null,
   "metadata": {},
   "outputs": [],
   "source": [
    "# Load Geo Json\n",
    "from urllib.request import urlopen\n",
    "import json\n",
    "\n",
    "with urlopen('https://raw.githubusercontent.com/plotly/datasets/master/geojson-counties-fips.json') as response:\n",
    "    us_counties = json.load(response)"
   ]
  },
  {
   "cell_type": "code",
   "execution_count": null,
   "metadata": {},
   "outputs": [],
   "source": [
    "# Read Data\n",
    "df = pd.read_csv(\"covid19_ny.csv\", dtype={\"FIPS\": str})\n",
    "df = df[df['Date'] == '4/12/2020']\n",
    "df"
   ]
  },
  {
   "cell_type": "code",
   "execution_count": null,
   "metadata": {},
   "outputs": [],
   "source": [
    "# Visualization\n",
    "fig = px.choropleth_mapbox(df,\n",
    "                           geojson = us_counties,\n",
    "                           color = 'Confirmed',\n",
    "                           range_color=(0, 30000),\n",
    "                           # match location in data with featureidkey in geoJson\n",
    "                           locations = 'FIPS',\n",
    "                           featureidkey = \"properties.GEO_ID\",\n",
    "                           mapbox_style=\"carto-darkmatter\",\n",
    "                           color_continuous_scale='Reds',\n",
    "                           center={\"lat\": 42.85, \"lon\": -75.5},\n",
    "                           zoom = 5.3,\n",
    "                           labels={'Confirmed':'Confirmed Cases'}\n",
    "                           # hover_name=\"County\",\n",
    "                           # hover_data=[\"Confirmed\", \"Deaths\"],\n",
    ")\n",
    "\n",
    "# fig.update_layout(margin={\"r\": 0, \"t\": 0, \"l\": 0, \"b\": 0})\n",
    "\n",
    "fig.update_layout(\n",
    "    # figure title\n",
    "    title_text = 'New York State Spread of Coronavirus',\n",
    "    # figure title position\n",
    "    title_x = 0.5,\n",
    "    \n",
    "    geo = dict(\n",
    "        showframe = False,\n",
    "        showcoastlines = False,\n",
    "        projection_type = 'equirectangular'\n",
    "    )\n",
    ")\n",
    "\n",
    "fig.show()"
   ]
  },
  {
   "cell_type": "code",
   "execution_count": null,
   "metadata": {},
   "outputs": [],
   "source": []
  },
  {
   "cell_type": "code",
   "execution_count": null,
   "metadata": {},
   "outputs": [],
   "source": []
  }
 ],
 "metadata": {
  "kernelspec": {
   "display_name": "Python 3",
   "language": "python",
   "name": "python3"
  }
 },
 "nbformat": 4,
 "nbformat_minor": 2
}
